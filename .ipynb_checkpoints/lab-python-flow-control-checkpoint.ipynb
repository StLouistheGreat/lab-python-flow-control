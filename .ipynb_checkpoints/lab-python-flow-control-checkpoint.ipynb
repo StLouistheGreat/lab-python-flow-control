{
 "cells": [
  {
   "cell_type": "markdown",
   "id": "d3bfc191-8885-42ee-b0a0-bbab867c6f9f",
   "metadata": {
    "tags": []
   },
   "source": [
    "# Lab | Flow Control"
   ]
  },
  {
   "cell_type": "markdown",
   "id": "7e7b1cf0-37ff-4d61-8a4a-92ede9bdef15",
   "metadata": {
    "tags": []
   },
   "source": [
    "## Exercise: Managing Customer Orders Optimized\n",
    "\n",
    "In the last lab, you were starting an online store that sells various products. To ensure smooth operations, you developed a program that manages customer orders and inventory.\n",
    "\n",
    "You did so without using flow control. Let's go a step further and improve this code.\n",
    "\n",
    "Follow the steps below to complete the exercise:\n",
    "\n",
    "1. Look at your code from the lab data structures, and improve repeated code with loops.\n",
    "\n",
    "2. Instead of asking the user to input the name of three products that a customer wants to order, do the following:\n",
    "    \n",
    "    a. Prompt the user to enter the name of a product that a customer wants to order.\n",
    "    \n",
    "    b. Add the product name to the \"customer_orders\" set.\n",
    "    \n",
    "    c. Ask the user if they want to add another product (yes/no).\n",
    "    \n",
    "    d. Continue the loop until the user does not want to add another product.\n",
    "\n",
    "3. Instead of updating the inventory by subtracting 1 from the quantity of each product, only do it for  the products that were ordered (those in \"customer_orders\")."
   ]
  },
  {
   "cell_type": "code",
   "execution_count": null,
   "id": "2bb407e0-0b58-46d1-9c93-20356a63fafe",
   "metadata": {
    "tags": []
   },
   "outputs": [],
   "source": [
    "#### SOLUTION\n",
    "\n",
    "products=['t-shirts','mugs','hats','books','keychains']\n",
    "\n",
    "line= '\\n'\n",
    "\n",
    "paragraph_break = \"\\n\\n\"\n",
    "\n",
    "inventory={}\n",
    "\n",
    "prod_count=[]\n",
    "\n",
    "index=0\n",
    "while len(prod_count)< 5:\n",
    "    for product in products:\n",
    "        try:\n",
    "            user_input=int(input(f'Enter the number of {product} in inventory: '))\n",
    "            prod_count.append(user_input)\n",
    "            index+=1\n",
    "            \n",
    "        except ValueError:\n",
    "            print('Please put in a whole number') \n",
    "            \n",
    "inventory = dict(zip(products,prod_count))\n",
    "print(inventory)\n",
    "\n",
    "print(line)\n",
    "\n",
    "customer_orders=[]\n",
    "\n",
    "for product in products:\n",
    "    Ask=input('Would you like to add the name of a product?')\n",
    "    if Ask in ['Yes','yes','YES','yES','yeS','YeS','yEs', 'YEs']:\n",
    "        set_input=input('Please enter the name of the product the customer wants to buy: ')\n",
    "        if set_input in products:\n",
    "            customer_orders.append(set_input)\n",
    "    else:\n",
    "        break\n",
    "\n",
    "print(line)\n",
    "\n",
    "total_ordered=len(customer_orders)\n",
    "percentage_ordered=total_ordered/sum(inventory.values())*100\n",
    "print(f'Order statistics:\\nTotal Products Ordered: {total_ordered}\\nPercentage of Product Ordered: {percentage_ordered}%')\n",
    "\n",
    "print(paragraph_break) \n",
    "\n",
    "for order in customer_orders:\n",
    "    if order in inventory:\n",
    "        inventory[order]-=1    \n",
    "        \n",
    "for key, value in inventory.items():\n",
    "    print(f'{key} has {value} left in stock\\n')\n",
    "    "
   ]
  },
  {
   "cell_type": "code",
   "execution_count": null,
   "id": "c15a4773-465d-4218-a5de-61a0a0bfaec7",
   "metadata": {},
   "outputs": [],
   "source": []
  },
  {
   "cell_type": "code",
   "execution_count": null,
   "id": "da7e07a0-d73e-4a60-9df7-cf5b8b2ea909",
   "metadata": {},
   "outputs": [],
   "source": []
  }
 ],
 "metadata": {
  "kernelspec": {
   "display_name": "Python 3 (ipykernel)",
   "language": "python",
   "name": "python3"
  },
  "language_info": {
   "codemirror_mode": {
    "name": "ipython",
    "version": 3
   },
   "file_extension": ".py",
   "mimetype": "text/x-python",
   "name": "python",
   "nbconvert_exporter": "python",
   "pygments_lexer": "ipython3",
   "version": "3.11.7"
  }
 },
 "nbformat": 4,
 "nbformat_minor": 5
}
